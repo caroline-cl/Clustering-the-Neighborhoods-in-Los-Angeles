{
 "cells": [
  {
   "cell_type": "markdown",
   "metadata": {},
   "source": [
    "# Introduction/Business Problem #"
   ]
  },
  {
   "cell_type": "markdown",
   "metadata": {},
   "source": [
    "This project aims to help people like myself who wish to reside in Los Angeles，California in the future but do not know which neighborhood to choose. Los Angeles is a very versatile region, with the downtown being populated and \n",
    "commercialized and the surrounding regions being chill and sparsely populated. For example, I personally enjoy living in a tranquil environment, so I would choose to live around the edges of LA. It helps people make decisions based on their personal interest. \n",
    "\n",
    "This includes the choice of conveniency (the distance to shops nearby), the number of schools around and their ratings, the crime rate, the budget on housing and living expenses, etc. There are a lot to explore before one makes such an important decision.\n",
    "\n",
    "This project will serve as a guidence for people to find the neighborhoods of their best fit. Connectivity to malls, airport, restaurants will be one of the priority when making such decisions. This project will be done with the use of k-clustering."
   ]
  },
  {
   "cell_type": "markdown",
   "metadata": {},
   "source": [
    "# Data #"
   ]
  },
  {
   "cell_type": "markdown",
   "metadata": {},
   "source": [
    "We will be using the Foursquare location data to solve for the problem."
   ]
  }
 ],
 "metadata": {
  "kernelspec": {
   "display_name": "Python 3",
   "language": "python",
   "name": "python3"
  },
  "language_info": {
   "codemirror_mode": {
    "name": "ipython",
    "version": 3
   },
   "file_extension": ".py",
   "mimetype": "text/x-python",
   "name": "python",
   "nbconvert_exporter": "python",
   "pygments_lexer": "ipython3",
   "version": "3.8.3"
  }
 },
 "nbformat": 4,
 "nbformat_minor": 4
}
